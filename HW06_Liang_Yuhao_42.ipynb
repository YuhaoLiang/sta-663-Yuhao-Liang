{
 "metadata": {
  "name": "",
  "signature": "sha256:f33567e8a0e75cf00b03c68fec28fd6decb8914b20d7f02c42d3348b6c0d0351"
 },
 "nbformat": 3,
 "nbformat_minor": 0,
 "worksheets": [
  {
   "cells": [
    {
     "cell_type": "code",
     "collapsed": false,
     "input": [
      "from __future__ import division\n",
      "\n",
      "import os\n",
      "import sys\n",
      "import glob\n",
      "import matplotlib.pyplot as plt\n",
      "import numpy as np\n",
      "import pandas as pd\n",
      "%matplotlib inline\n",
      "%precision 4\n",
      "plt.style.use('ggplot')\n"
     ],
     "language": "python",
     "metadata": {},
     "outputs": [],
     "prompt_number": 1
    },
    {
     "cell_type": "code",
     "collapsed": false,
     "input": [
      "import scipy.optimize as opt\n",
      "import scipy.stats as stats\n",
      "import scipy.linalg as la\n",
      "from IPython.display import Image"
     ],
     "language": "python",
     "metadata": {},
     "outputs": [],
     "prompt_number": 2
    },
    {
     "cell_type": "markdown",
     "metadata": {},
     "source": [
      "**Exercise 1 (10 points)**.\n",
      "\n",
      "A milkmaid is at point A and needs to get to point B. However, she also needs to fill a pail of water from the river en route from A to B. The equation of the river's path is shown in the figure below. \n",
      "\n",
      "- What is the minimum distance she has to travel to do this?\n",
      "- Modify the code below so that the path taken by the milkmaid is shown as a dashed line.\n",
      "\n",
      "```\n",
      "x = np.linspace(0, 10, 100)\n",
      "plt.xlim([0, 10])\n",
      "plt.plot(x, 10.0/(1+x), 'b', linewidth=5)\n",
      "plt.scatter([2,8], [8,4], c=[0,1], s=100)\n",
      "plt.text(8, 5, 'B (8,4)', fontsize=16)\n",
      "plt.text(2, 9, 'A (2,8)', fontsize=16)\n",
      "plt.text(0.5, 2, 'River', fontsize=16)\n",
      "plt.text(0.5, 0.5, 'g(x y) = y - 10/(1+x)', fontsize=16);\n",
      "```"
     ]
    },
    {
     "cell_type": "code",
     "collapsed": false,
     "input": [
      "#the minimum distance she has to travel\n",
      "def g(x):\n",
      "    x = x*1.0\n",
      "    return np.array([x,10.0/(1+x)])\n",
      "\n",
      "def water(x):\n",
      "    A = np.array([2,8])\n",
      "    B = np.array([8,4])\n",
      "    y = 10/(1+x)\n",
      "    return ((x - 2)**2 + (y - 8)**2)**0.5 + ((x - 8)**2 + (y-4)**2)**0.5\n",
      "\n",
      "x0 = 2.0\n",
      "opt3 = opt.minimize(water,x0)\n",
      "print \"The point where the milkmaid fills the water C = [%.3f,%.3f] \" % (opt3.x,g(opt3.x)[1])\n",
      "print \"The minimum distance milkmaid has to travel is %.3f \" % water(opt3.x)\n",
      "\n",
      "#the path taken by the milkmaid is shown as a dashed line\n",
      "\n",
      "path = np.vstack((np.array([2, 8]), g(opt3.x).reshape(1,2),np.array([8,4])))\n",
      "x = np.linspace(0, 10, 100)\n",
      "plt.xlim([0, 10])\n",
      "plt.plot(x, 10.0/(1+x), 'b', linewidth=5)\n",
      "path_plot, = plt.plot(path[:,0],path[:,1],'r--', linewidth=5,label=\"path\")\n",
      "plt.scatter([2,8,opt3.x], [8,4,g(opt3.x)[1]], c=[0,4,3], s=100)\n",
      "plt.text(opt3.x, g(opt3.x)[1]+1, 'C', fontsize=16)\n",
      "plt.text(8, 5, 'B (8,4)', fontsize=16)\n",
      "plt.text(2, 9, 'A (2,8)', fontsize=16)\n",
      "plt.text(0.5, 2, 'River', fontsize=16)\n",
      "plt.text(0.5, 0.5, 'g(x y) = y - 10/(1+x)', fontsize=16);\n",
      "plt.legend(['x',path_plot]);"
     ],
     "language": "python",
     "metadata": {},
     "outputs": [
      {
       "output_type": "stream",
       "stream": "stdout",
       "text": [
        "The point where the milkmaid fills the water C = [0.532,6.526] \n",
        "The minimum distance milkmaid has to travel is 9.963 \n"
       ]
      },
      {
       "metadata": {},
       "output_type": "display_data",
       "png": "[encoded data removed]",
       "text": [
        "<matplotlib.figure.Figure at 0x7f8a5ec9ff50>"
       ]
      }
     ],
     "prompt_number": 3
    },
    {
     "cell_type": "markdown",
     "metadata": {},
     "source": [
      "**Exercise 2 (10 points)**.\n",
      "\n",
      "You are given 5 samples of 100 rolls of a die. The die is chosen at random from one of two dice, either of which may be biased. Given the following counts, estimate the parameters for each die (i.e. the probabilites of getting a 1, 2, 3, 4, 5 or 6)."
     ]
    },
    {
     "cell_type": "code",
     "collapsed": false,
     "input": [
      "df = pd.read_csv('dice.csv', index_col=0)\n",
      "df"
     ],
     "language": "python",
     "metadata": {},
     "outputs": [
      {
       "html": [
        "<div style=\"max-height:1000px;max-width:1500px;overflow:auto;\">\n",
        "<table border=\"1\" class=\"dataframe\">\n",
        "  <thead>\n",
        "    <tr style=\"text-align: right;\">\n",
        "      <th></th>\n",
        "      <th>1</th>\n",
        "      <th>2</th>\n",
        "      <th>3</th>\n",
        "      <th>4</th>\n",
        "      <th>5</th>\n",
        "      <th>6</th>\n",
        "    </tr>\n",
        "  </thead>\n",
        "  <tbody>\n",
        "    <tr>\n",
        "      <th>Sample 1</th>\n",
        "      <td>  2</td>\n",
        "      <td> 14</td>\n",
        "      <td> 10</td>\n",
        "      <td> 20</td>\n",
        "      <td> 26</td>\n",
        "      <td> 28</td>\n",
        "    </tr>\n",
        "    <tr>\n",
        "      <th>Sample 2</th>\n",
        "      <td>  1</td>\n",
        "      <td> 13</td>\n",
        "      <td> 12</td>\n",
        "      <td> 17</td>\n",
        "      <td> 21</td>\n",
        "      <td> 36</td>\n",
        "    </tr>\n",
        "    <tr>\n",
        "      <th>Sample 3</th>\n",
        "      <td> 21</td>\n",
        "      <td> 18</td>\n",
        "      <td> 16</td>\n",
        "      <td> 12</td>\n",
        "      <td> 14</td>\n",
        "      <td> 19</td>\n",
        "    </tr>\n",
        "    <tr>\n",
        "      <th>Sample 4</th>\n",
        "      <td> 15</td>\n",
        "      <td> 20</td>\n",
        "      <td> 20</td>\n",
        "      <td> 15</td>\n",
        "      <td> 12</td>\n",
        "      <td> 18</td>\n",
        "    </tr>\n",
        "    <tr>\n",
        "      <th>Sample 5</th>\n",
        "      <td>  5</td>\n",
        "      <td> 10</td>\n",
        "      <td> 11</td>\n",
        "      <td> 24</td>\n",
        "      <td> 17</td>\n",
        "      <td> 33</td>\n",
        "    </tr>\n",
        "  </tbody>\n",
        "</table>\n",
        "</div>"
       ],
       "metadata": {},
       "output_type": "pyout",
       "prompt_number": 4,
       "text": [
        "           1   2   3   4   5   6\n",
        "Sample 1   2  14  10  20  26  28\n",
        "Sample 2   1  13  12  17  21  36\n",
        "Sample 3  21  18  16  12  14  19\n",
        "Sample 4  15  20  20  15  12  18\n",
        "Sample 5   5  10  11  24  17  33"
       ]
      }
     ],
     "prompt_number": 4
    },
    {
     "cell_type": "code",
     "collapsed": false,
     "input": [
      "xs = np.array(df)\n",
      "#initial value\n",
      "thetas = np.array([np.ones(shape=(6))/6, [0.1,0.2,0.1,0.2,0.1,0.3]])\n",
      "\n",
      "tol = 0.01\n",
      "max_iter = 100\n",
      "\n",
      "ll_old = -np.infty\n",
      "for i in range(max_iter):\n",
      "    ll_A = np.sum(xs * np.log(thetas[0]), axis=1)\n",
      "    ll_B = np.sum(xs * np.log(thetas[1]), axis=1)\n",
      "    denom = np.exp(ll_A) + np.exp(ll_B)\n",
      "    w_A = np.exp(ll_A)/denom\n",
      "    w_B = np.exp(ll_B)/denom\n",
      "    ll_new = w_A.dot(ll_A) + w_B.dot(ll_B)\n",
      "    \n",
      "    vs_A = w_A[:, None] * xs\n",
      "    vs_B = w_B[:, None] * xs\n",
      "    \n",
      "    thetas[0] = np.sum(vs_A, 0)/np.sum(vs_A)\n",
      "    thetas[1] = np.sum(vs_B, 0)/np.sum(vs_B)\n",
      "\n",
      "    print \"Iteration: %d\" % (i+1)\n",
      "    print \"theta_A = \", thetas[0]\n",
      "    print \"theta_B = \", thetas[1]\n",
      "    print \"ll = %.2f\" % ll_new\n",
      "    \n",
      "    if np.abs(ll_new - ll_old) < tol:\n",
      "        break\n",
      "    ll_old = ll_new\n"
     ],
     "language": "python",
     "metadata": {},
     "outputs": [
      {
       "output_type": "stream",
       "stream": "stdout",
       "text": [
        "Iteration: 1\n",
        "theta_A =  [ 0.177   0.1891  0.1785  0.1362  0.1324  0.1868]\n",
        "theta_B =  [ 0.0268  0.1231  0.1102  0.2034  0.2127  0.3238]\n",
        "ll = -874.76\n",
        "Iteration: 2\n",
        "theta_A =  [ 0.18   0.19   0.18   0.135  0.13   0.185]\n",
        "theta_B =  [ 0.0267  0.1233  0.11    0.2033  0.2133  0.3233]\n",
        "ll = -840.97\n",
        "Iteration: 3\n",
        "theta_A =  [ 0.18   0.19   0.18   0.135  0.13   0.185]\n",
        "theta_B =  [ 0.0267  0.1233  0.11    0.2033  0.2133  0.3233]\n",
        "ll = -840.95\n",
        "Iteration: 4\n",
        "theta_A =  [ 0.18   0.19   0.18   0.135  0.13   0.185]\n",
        "theta_B =  [ 0.0267  0.1233  0.11    0.2033  0.2133  0.3233]\n",
        "ll = -840.95\n"
       ]
      }
     ],
     "prompt_number": 5
    },
    {
     "cell_type": "markdown",
     "metadata": {},
     "source": [
      "**Exercise 3 (10 points)**\n",
      "\n",
      "You have some data about the intervals between arrivals (in minutes) of customers to a bank. You want to know how many customers to expect from 9 AM to 5 PM. Simulate 1000 sequences of customer arrivals over an 8 hour period and esitmate the mean and variance. "
     ]
    },
    {
     "cell_type": "code",
     "collapsed": false,
     "input": [
      "data = np.loadtxt('arrival_intervals.txt')\n"
     ],
     "language": "python",
     "metadata": {},
     "outputs": [],
     "prompt_number": 6
    },
    {
     "cell_type": "code",
     "collapsed": false,
     "input": [
      "# For Question 3, use the data to construct a new random number generator with the same distribution, \n",
      "# and use that to generate the Monte Carlo samples for the simulation.\n",
      "from scipy.interpolate import interp1d\n",
      "def extrap1d(interpolator):\n",
      "    \"\"\"From StackOverflow http://bit.ly/1BjyRfk\"\"\"\n",
      "    xs = interpolator.x\n",
      "    ys = interpolator.y\n",
      "\n",
      "    def pointwise(x):\n",
      "        if x < xs[0]:\n",
      "            return ys[0]+(x-xs[0])*(ys[1]-ys[0])/(xs[1]-xs[0])\n",
      "        elif x > xs[-1]:\n",
      "            return ys[-1]+(x-xs[-1])*(ys[-1]-ys[-2])/(xs[-1]-xs[-2])\n",
      "        else:\n",
      "            return interpolator(x)\n",
      "\n",
      "    def ufunclike(xs):\n",
      "        return np.array(map(pointwise, np.array(xs)))\n",
      "\n",
      "    return ufunclike\n",
      "from statsmodels.distributions.empirical_distribution import ECDF\n",
      "\n",
      "# Make up some random data\n",
      "\n",
      "ecdf = ECDF(data)\n",
      "inv_cdf = extrap1d(interp1d(ecdf.y, ecdf.x, bounds_error=False, assume_sorted=True))\n"
     ],
     "language": "python",
     "metadata": {},
     "outputs": [],
     "prompt_number": 7
    },
    {
     "cell_type": "code",
     "collapsed": false,
     "input": [
      "print np.mean(data)\n",
      "print round(8.0*60/np.mean(data))\n",
      "samples = np.array([np.array(inv_cdf(np.random.uniform(0,1,80))) for i in range(1000)])"
     ],
     "language": "python",
     "metadata": {},
     "outputs": [
      {
       "output_type": "stream",
       "stream": "stdout",
       "text": [
        "14.4664954046\n",
        "33.0\n"
       ]
      }
     ],
     "prompt_number": 8
    },
    {
     "cell_type": "code",
     "collapsed": false,
     "input": [
      "print inv_cdf([0.002])\n",
      "#When quantile is too close to 0, there will be a nan from inv_cdf\n",
      "#Since the arrival time should be non-negative, it is reasonble to set this nan as 0\n",
      "samples[np.isnan(samples)] = 0\n",
      "print \"Test whether all samples are over 8 hours -\",all(np.sum(samples,axis = 1) > 480)"
     ],
     "language": "python",
     "metadata": {},
     "outputs": [
      {
       "output_type": "stream",
       "stream": "stdout",
       "text": [
        "[ nan]\n",
        "Test whether all samples are over 8 hours - True\n"
       ]
      }
     ],
     "prompt_number": 9
    },
    {
     "cell_type": "code",
     "collapsed": false,
     "input": [
      "samples_8 = np.array([np.sum(np.cumsum(s) < 480) for s in samples])\n",
      "print \"Monte Carlo estimate mean %.f, variance %.1f\" % (np.mean(samples_8),np.std(samples_8)**2)"
     ],
     "language": "python",
     "metadata": {},
     "outputs": [
      {
       "output_type": "stream",
       "stream": "stdout",
       "text": [
        "Monte Carlo estimate mean 35, variance 72.2\n"
       ]
      }
     ],
     "prompt_number": 10
    },
    {
     "cell_type": "markdown",
     "metadata": {},
     "source": [
      "**Exercsie 4 (10 points)**\n",
      "\n",
      "The Cauchy distribution is given by \n",
      "$$\n",
      "f(x) = \\frac{1}{\\pi (1 + x^2)}, \\ \\ -\\infty \\lt x \\lt \\infty \n",
      "$$\n",
      "\n",
      "1. Integrate the tail probability $P(X > 2)$ using Monte Carlo with 1,000 samples:\n",
      "    1. Sampling from the Cauchy distribution directly\n",
      "    2. Sampling from the uniform distribution using an appropriate change of variables\n",
      "2. Plot the 95% CI for the Monte Carlo estimates for the number of samples from 1 to 1,000, and using 1,000 reps to estimate the lower and upper bounds:\n",
      "    1. For sampling from the Cauchy distribution using multiple Monte Carlo sequences\n",
      "    2. For sampling from the uniform distribution using bootstrap samples of a single Monte Carlo sequence\n",
      "\n"
     ]
    },
    {
     "cell_type": "code",
     "collapsed": false,
     "input": [
      "np.random.seed(40)\n",
      "#1.A\n",
      "sample1 = np.random.standard_cauchy(1000)\n",
      "print np.sum(sample1 > 2)/1000\n",
      "\n"
     ],
     "language": "python",
     "metadata": {},
     "outputs": [
      {
       "output_type": "stream",
       "stream": "stdout",
       "text": [
        "0.153\n"
       ]
      }
     ],
     "prompt_number": 11
    },
    {
     "cell_type": "markdown",
     "metadata": {},
     "source": [
      "\\begin{eqnarray*}\n",
      "\\int_{2}^{\\infty} \\frac{1}{\\pi(1+x^2)} dx &=& 0.5 - \\int_{0}^{2}\\frac{1}{\\pi(1+x^2)} dx\n",
      "\\\\&\\approx& 0.5 - \\sum_{i=1}^{n} 2\\frac{1}{\\pi(1+x_i^2)}\n",
      "\\end{eqnarray*}\n",
      "where $x_i$ follows uniform distribution (0,2)"
     ]
    },
    {
     "cell_type": "code",
     "collapsed": false,
     "input": [
      "\n",
      "#1.B\n",
      "sample2 = 2.0/(np.pi*(1+np.random.uniform(0,2,1000)**2))\n",
      "print 0.5 - np.sum(sample2)/1000\n"
     ],
     "language": "python",
     "metadata": {},
     "outputs": [
      {
       "output_type": "stream",
       "stream": "stdout",
       "text": [
        "0.148414197484\n"
       ]
      }
     ],
     "prompt_number": 12
    },
    {
     "cell_type": "code",
     "collapsed": false,
     "input": [
      "#2.A\n",
      "n = 1000\n",
      "reps = 1000\n",
      "x = np.random.standard_cauchy((n, reps))>2\n",
      "y = 1.0/np.arange(1, n+1)[:, None] * np.cumsum(x, axis=0)\n",
      "upper, lower = np.percentile(y, [2.5, 97.5], axis=1)\n",
      "plt.plot(np.arange(1, n+1), y, c='grey', alpha=0.02)\n",
      "plt.plot(np.arange(1, n+1), y[:, 0], c='red', linewidth=1);\n",
      "plt.plot(np.arange(1, n+1), upper, 'b', np.arange(1, n+1), lower, 'b');"
     ],
     "language": "python",
     "metadata": {},
     "outputs": [
      {
       "metadata": {},
       "output_type": "display_data",
       "png": "[encoded data removed]",
       "text": [
        "<matplotlib.figure.Figure at 0x7f8a5ec5f890>"
       ]
      }
     ],
     "prompt_number": 13
    },
    {
     "cell_type": "code",
     "collapsed": false,
     "input": [
      "#2.B\n",
      "xb = np.random.choice(sample2, (n, reps), replace=True)\n",
      "yb = 0.5 - 1.0/np.arange(1, n+1)[:, None] * np.cumsum(xb, axis=0)\n",
      "upper, lower = np.percentile(yb, [2.5, 97.5], axis=1)\n",
      "plt.plot(np.arange(1, n+1)[:, None], yb, c='grey', alpha=0.02)\n",
      "plt.plot(np.arange(1, n+1), yb[:, 0], c='red', linewidth=1)\n",
      "plt.plot(np.arange(1, n+1), upper, 'b', np.arange(1, n+1), lower, 'b');"
     ],
     "language": "python",
     "metadata": {},
     "outputs": [
      {
       "metadata": {},
       "output_type": "display_data",
       "png": "[encoded data removed]",
       "text": [
        "<matplotlib.figure.Figure at 0x7f8a5bf191d0>"
       ]
      }
     ],
     "prompt_number": 14
    },
    {
     "cell_type": "markdown",
     "metadata": {},
     "source": [
      "**Exercise 5 (10 points)**.\n",
      "\n",
      "Estimate the following integral using Monte Carlo integration\n",
      "\n",
      "$$\n",
      "\\int_{-\\infty}^{\\infty} x^2 \\frac{1}{2}e^{-|x|} dx\n",
      "$$\n",
      "\n",
      "Hint: See figure.\n",
      "\n",
      "![Hint](./dexp.png)"
     ]
    },
    {
     "cell_type": "code",
     "collapsed": false,
     "input": [
      "#Since the integrant is symmetric I just used sample from exponential distribution\n",
      "\n",
      "print \"The Monte Carlo integration is %.3f\" % (2.0*np.mean(0.5*np.random.exponential(size = 10000)**2))\n"
     ],
     "language": "python",
     "metadata": {},
     "outputs": [
      {
       "output_type": "stream",
       "stream": "stdout",
       "text": [
        "The Monte Carlo integration is 1.974\n"
       ]
      }
     ],
     "prompt_number": 15
    }
   ],
   "metadata": {}
  }
 ]
}