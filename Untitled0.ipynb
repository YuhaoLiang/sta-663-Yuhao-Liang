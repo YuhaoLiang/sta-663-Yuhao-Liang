{
 "metadata": {
  "name": "",
  "signature": "sha256:2dbc8ecd924f5771477e0ceff869d5ddfa9c1065126ecaf13c5fd1dcf8753b0c"
 },
 "nbformat": 3,
 "nbformat_minor": 0,
 "worksheets": []
}